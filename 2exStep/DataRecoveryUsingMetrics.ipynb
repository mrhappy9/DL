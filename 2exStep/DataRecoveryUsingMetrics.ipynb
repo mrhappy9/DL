{
 "cells": [
  {
   "cell_type": "code",
   "execution_count": 1,
   "id": "acceptable-expression",
   "metadata": {},
   "outputs": [],
   "source": [
    "import pandas as pd\n",
    "import numpy as np\n",
    "from numpy import NaN\n",
    "\n",
    "# Создадим датафрейм с пропущенным значением признака Р для объекта А\n",
    "df = pd.DataFrame({'P1':[3,5,4,5], 'P2':[4,5,3,4], 'P3':[5,5,3,3], 'P4':[3,4,2,3], 'P':[4,3,5,NaN]}, \n",
    "                  index=['A1', 'A2', 'A3', 'A'])"
   ]
  },
  {
   "cell_type": "code",
   "execution_count": 2,
   "id": "noted-property",
   "metadata": {},
   "outputs": [
    {
     "data": {
      "text/html": [
       "<div>\n",
       "<style scoped>\n",
       "    .dataframe tbody tr th:only-of-type {\n",
       "        vertical-align: middle;\n",
       "    }\n",
       "\n",
       "    .dataframe tbody tr th {\n",
       "        vertical-align: top;\n",
       "    }\n",
       "\n",
       "    .dataframe thead th {\n",
       "        text-align: right;\n",
       "    }\n",
       "</style>\n",
       "<table border=\"1\" class=\"dataframe\">\n",
       "  <thead>\n",
       "    <tr style=\"text-align: right;\">\n",
       "      <th></th>\n",
       "      <th>P1</th>\n",
       "      <th>P2</th>\n",
       "      <th>P3</th>\n",
       "      <th>P4</th>\n",
       "      <th>P</th>\n",
       "    </tr>\n",
       "  </thead>\n",
       "  <tbody>\n",
       "    <tr>\n",
       "      <th>A1</th>\n",
       "      <td>3</td>\n",
       "      <td>4</td>\n",
       "      <td>5</td>\n",
       "      <td>3</td>\n",
       "      <td>4.0</td>\n",
       "    </tr>\n",
       "    <tr>\n",
       "      <th>A2</th>\n",
       "      <td>5</td>\n",
       "      <td>5</td>\n",
       "      <td>5</td>\n",
       "      <td>4</td>\n",
       "      <td>3.0</td>\n",
       "    </tr>\n",
       "    <tr>\n",
       "      <th>A3</th>\n",
       "      <td>4</td>\n",
       "      <td>3</td>\n",
       "      <td>3</td>\n",
       "      <td>2</td>\n",
       "      <td>5.0</td>\n",
       "    </tr>\n",
       "    <tr>\n",
       "      <th>A</th>\n",
       "      <td>5</td>\n",
       "      <td>4</td>\n",
       "      <td>3</td>\n",
       "      <td>3</td>\n",
       "      <td>NaN</td>\n",
       "    </tr>\n",
       "  </tbody>\n",
       "</table>\n",
       "</div>"
      ],
      "text/plain": [
       "    P1  P2  P3  P4    P\n",
       "A1   3   4   5   3  4.0\n",
       "A2   5   5   5   4  3.0\n",
       "A3   4   3   3   2  5.0\n",
       "A    5   4   3   3  NaN"
      ]
     },
     "execution_count": 2,
     "metadata": {},
     "output_type": "execute_result"
    }
   ],
   "source": [
    "df"
   ]
  },
  {
   "cell_type": "code",
   "execution_count": 64,
   "id": "about-slave",
   "metadata": {},
   "outputs": [],
   "source": [
    "dict_metric = {'A1':[], 'A2':[], 'A3':[]}"
   ]
  },
  {
   "cell_type": "code",
   "execution_count": 65,
   "id": "entertaining-belarus",
   "metadata": {},
   "outputs": [],
   "source": [
    "for index in df.index[:-1]:\n",
    "    dict_metric[index].append(np.power((df.loc['A'][:-1]-df.loc[index][:-1]).pow(2).sum(), 0.5).round(2)) # Евклид\n",
    "    dict_metric[index].append((df.loc['A'][:-1]-df.loc[index][:-1]).abs().sum()) # Манхеттен\n",
    "    dict_metric[index].append((df.loc['A'][:-1]-df.loc[index][:-1]).abs().max()) # MAX-метрика\n"
   ]
  },
  {
   "cell_type": "code",
   "execution_count": 66,
   "id": "directed-orchestra",
   "metadata": {},
   "outputs": [
    {
     "data": {
      "text/html": [
       "<div>\n",
       "<style scoped>\n",
       "    .dataframe tbody tr th:only-of-type {\n",
       "        vertical-align: middle;\n",
       "    }\n",
       "\n",
       "    .dataframe tbody tr th {\n",
       "        vertical-align: top;\n",
       "    }\n",
       "\n",
       "    .dataframe thead th {\n",
       "        text-align: right;\n",
       "    }\n",
       "</style>\n",
       "<table border=\"1\" class=\"dataframe\">\n",
       "  <thead>\n",
       "    <tr style=\"text-align: right;\">\n",
       "      <th></th>\n",
       "      <th>A1</th>\n",
       "      <th>A2</th>\n",
       "      <th>A3</th>\n",
       "    </tr>\n",
       "  </thead>\n",
       "  <tbody>\n",
       "    <tr>\n",
       "      <th>Euclid</th>\n",
       "      <td>2.83</td>\n",
       "      <td>2.45</td>\n",
       "      <td>1.73</td>\n",
       "    </tr>\n",
       "    <tr>\n",
       "      <th>Manhatten</th>\n",
       "      <td>4.00</td>\n",
       "      <td>4.00</td>\n",
       "      <td>3.00</td>\n",
       "    </tr>\n",
       "    <tr>\n",
       "      <th>Max</th>\n",
       "      <td>2.00</td>\n",
       "      <td>2.00</td>\n",
       "      <td>1.00</td>\n",
       "    </tr>\n",
       "  </tbody>\n",
       "</table>\n",
       "</div>"
      ],
      "text/plain": [
       "             A1    A2    A3\n",
       "Euclid     2.83  2.45  1.73\n",
       "Manhatten  4.00  4.00  3.00\n",
       "Max        2.00  2.00  1.00"
      ]
     },
     "execution_count": 66,
     "metadata": {},
     "output_type": "execute_result"
    }
   ],
   "source": [
    "metrics = pd.DataFrame(dict_metric, index=['Euclid', 'Manhatten', 'Max'])\n",
    "\n",
    "metrics"
   ]
  },
  {
   "cell_type": "code",
   "execution_count": 85,
   "id": "floral-might",
   "metadata": {},
   "outputs": [
    {
     "name": "stdout",
     "output_type": "stream",
     "text": [
      "значение признака P для А по метрике Euclid: 4.13\n",
      "значение признака P для А по метрике Manhatten: 4.1\n",
      "значение признака P для А по метрике Max: 4.25\n"
     ]
    }
   ],
   "source": [
    "ratios = {'Euclid': [], 'Manhatten': [], 'Max': []}\n",
    "\n",
    "# for i in metrics:\n",
    "#     normal = 1/(1/metrics.loc[i]).sum()\n",
    "for i in metrics.index[:]:\n",
    "    normal = 1/((1/metrics.loc[i]).sum())\n",
    "    main_part = (df.loc[:]['P'][:-1]/metrics.loc[i]).sum()\n",
    "    ratios[i].append((main_part*normal).round(2))\n",
    "    print(f'значение признака P для А по метрике {i}: {(main_part*normal).round(2)}')"
   ]
  },
  {
   "cell_type": "code",
   "execution_count": null,
   "id": "undefined-avatar",
   "metadata": {},
   "outputs": [],
   "source": []
  },
  {
   "cell_type": "code",
   "execution_count": null,
   "id": "regulation-slovak",
   "metadata": {
    "scrolled": false
   },
   "outputs": [],
   "source": []
  },
  {
   "cell_type": "code",
   "execution_count": null,
   "id": "theoretical-telescope",
   "metadata": {},
   "outputs": [],
   "source": []
  },
  {
   "cell_type": "code",
   "execution_count": null,
   "id": "planned-logistics",
   "metadata": {},
   "outputs": [],
   "source": []
  }
 ],
 "metadata": {
  "kernelspec": {
   "display_name": "Python 3",
   "language": "python",
   "name": "python3"
  },
  "language_info": {
   "codemirror_mode": {
    "name": "ipython",
    "version": 3
   },
   "file_extension": ".py",
   "mimetype": "text/x-python",
   "name": "python",
   "nbconvert_exporter": "python",
   "pygments_lexer": "ipython3",
   "version": "3.9.2"
  }
 },
 "nbformat": 4,
 "nbformat_minor": 5
}
